{
  "cells": [
    {
      "cell_type": "markdown",
      "id": "40d3f376",
      "metadata": {
        "id": "40d3f376"
      },
      "source": [
        "# Visualizing Data"
      ]
    },
    {
      "cell_type": "markdown",
      "id": "e5e5ab47",
      "metadata": {
        "id": "e5e5ab47"
      },
      "source": [
        "# Contents:\n",
        "\n",
        "1. Setup\n",
        "2. `matplotlib`\n",
        "3. `seaborn`\n",
        "4. `plotly`"
      ]
    },
    {
      "cell_type": "markdown",
      "id": "NOxbeniZgD-T",
      "metadata": {
        "id": "NOxbeniZgD-T"
      },
      "source": [
        "## Data\n",
        "\n",
        "The specific file names are:\n",
        "- bike_thefts_joined.csv\n",
        "- neighbourhoods.csv"
      ]
    },
    {
      "cell_type": "markdown",
      "id": "f6818543",
      "metadata": {
        "id": "f6818543"
      },
      "source": [
        "## Supporting packages and data\n",
        "\n",
        "Let's import `numpy` and `pandas` and load up some data to work with."
      ]
    },
    {
      "cell_type": "code",
      "execution_count": null,
      "id": "c6bb6689",
      "metadata": {
        "id": "c6bb6689"
      },
      "outputs": [],
      "source": [
        "import numpy as np\n",
        "import pandas as pd\n",
        "pd.set_option(\"display.max_columns\", None)"
      ]
    },
    {
      "cell_type": "code",
      "execution_count": null,
      "id": "b8d53acd",
      "metadata": {
        "id": "b8d53acd"
      },
      "outputs": [],
      "source": [
        "# load data\n",
        "thefts_joined = pd.read_csv('../../05_src/data/slides_data/bike_thefts_joined.csv',\n",
        "                           dtype={'n_id': str})\n",
        "neighbourhoods = pd.read_csv('../../05_src/data/slides_data/neighbourhoods.csv',\n",
        "                            dtype={'n_id': str})\n",
        "\n",
        "# fix dates\n",
        "thefts_joined['occurrence_date'] = pd.to_datetime(thefts_joined['occurrence_date'])\n",
        "thefts_joined['report_date'] = pd.to_datetime(thefts_joined['report_date'])"
      ]
    },
    {
      "cell_type": "code",
      "execution_count": null,
      "id": "40b46014",
      "metadata": {
        "colab": {
          "base_uri": "https://localhost:8080/",
          "height": 428
        },
        "id": "40b46014",
        "outputId": "bc60bd57-7b47-40e8-b98c-b11e90e99714"
      },
      "outputs": [],
      "source": [
        "thefts_joined.head()"
      ]
    },
    {
      "cell_type": "code",
      "execution_count": null,
      "id": "aa85b60f",
      "metadata": {
        "colab": {
          "base_uri": "https://localhost:8080/",
          "height": 204
        },
        "id": "aa85b60f",
        "outputId": "8b7c5e81-3e38-4928-e010-c18b174ba575"
      },
      "outputs": [],
      "source": [
        "# exclude the City of Toronto\n",
        "neighbourhoods = neighbourhoods.loc[neighbourhoods['neighbourhood'] != 'City of Toronto']\n",
        "neighbourhoods.head()"
      ]
    },
    {
      "cell_type": "code",
      "execution_count": null,
      "id": "6f439a4e",
      "metadata": {
        "colab": {
          "base_uri": "https://localhost:8080/"
        },
        "id": "6f439a4e",
        "outputId": "c179d84d-db06-449b-e68f-1d7f50d729f2"
      },
      "outputs": [],
      "source": [
        "# add new columns showing % of commuters for each mode\n",
        "def calc_pct(mode):\n",
        "    return round(mode/neighbourhoods['total_commuters'], 3)\n",
        "\n",
        "# new column names\n",
        "pct_cols = ['pct_drive', 'pct_cp', 'pct_transit', 'pct_walk']\n",
        "neighbourhoods[pct_cols] = neighbourhoods.loc[:, 'drive':'walk'].apply(calc_pct)\n",
        "#.apply() applies a function along an axis of the DataFrame"
      ]
    },
    {
      "cell_type": "markdown",
      "id": "b80d4fb6",
      "metadata": {
        "id": "b80d4fb6"
      },
      "source": [
        "# Overview"
      ]
    },
    {
      "cell_type": "markdown",
      "id": "4339b9f2",
      "metadata": {
        "id": "4339b9f2"
      },
      "source": [
        "## Data visualization in Python\n",
        "\n",
        "So far, we have gotten data, wrangled it, and scratched the surface of exploratory analyses. As part of that exploration, we created charts with `pandas`. However, there are dedicated visualization libraries let us customize our charts further."
      ]
    },
    {
      "cell_type": "markdown",
      "id": "1bc939ac",
      "metadata": {
        "id": "1bc939ac"
      },
      "source": [
        "# `matplotlib`"
      ]
    },
    {
      "cell_type": "markdown",
      "id": "047c2994",
      "metadata": {
        "id": "047c2994"
      },
      "source": [
        "## `matplotlib`\n",
        "\n",
        "`matplotlib` is _the_ foundational data visualization library in Python. `pandas`'s visualization functions are, at their core,  `matplotlib` functions. Other popular libraries like `seaborn` similarly build on `matplotlib`."
      ]
    },
    {
      "cell_type": "markdown",
      "id": "50f9c343",
      "metadata": {
        "id": "50f9c343"
      },
      "source": [
        "For historical reasons, when we import `matplotlib`, we really import `matplotlib.pyplot`. The conventional alias is `plt`."
      ]
    },
    {
      "cell_type": "code",
      "execution_count": null,
      "id": "cea5f938",
      "metadata": {
        "id": "cea5f938"
      },
      "outputs": [],
      "source": [
        "# jupyter-specific \"magic\" command to render plots in-line\n",
        "%matplotlib inline\n",
        "\n",
        "import matplotlib.pyplot as plt"
      ]
    },
    {
      "cell_type": "markdown",
      "id": "3e2fb9ea",
      "metadata": {
        "id": "3e2fb9ea"
      },
      "source": [
        "## Anatomy of a plot\n",
        "\n",
        "`matplotlib` visuals consist of one or more Axes in a Figure. An _Axes_, confusingly, is what we would consider a graph, while the _Figure_ is a container for those graphs. An Axes has an x-_Axis_ and a y-_Axis_.\n",
        "\n",
        "More details can be found at: https://matplotlib.org/stable/tutorials/introductory/quick_start.html"
      ]
    },
    {
      "cell_type": "markdown",
      "id": "c3dc71ce",
      "metadata": {
        "id": "c3dc71ce"
      },
      "source": [
        "## Plotting with `matplotlib`\n",
        "\n",
        "`matplotlib` provides two ways to create visualizations:\n",
        "* by having **`pyplot`** automatically create and manage Figures and Axes, keeping track of which Figure and Axes we are currently working on\n",
        "* by taking an **object-oriented approach**, where we explicitly create Figures and Axes and modify them\n",
        "\n",
        "The object-oriented approach is recommended, but the `pyplot` approach is convenient for quick plots."
      ]
    },
    {
      "cell_type": "markdown",
      "id": "46c48170",
      "metadata": {
        "id": "46c48170"
      },
      "source": [
        "## `pyplot`-style plotting\n",
        "\n",
        "`pyplot`-style plotting is convenient for quick, exploratory plots, where we don't plan on doing a lot of customization. When we plotted data in `pandas`, `pandas` took this approach. Let's plot the neighbourhood data with the `pyplot` approach. `plot()` produces a line plot by default."
      ]
    },
    {
      "cell_type": "code",
      "execution_count": null,
      "id": "2ae23a00",
      "metadata": {
        "colab": {
          "base_uri": "https://localhost:8080/",
          "height": 447
        },
        "id": "2ae23a00",
        "outputId": "03e0fa2d-2cde-4ac5-d928-b2773e407a97"
      },
      "outputs": [],
      "source": [
        "plt.plot(neighbourhoods['pop_2016'],\n",
        "         neighbourhoods['bike'])"
      ]
    },
    {
      "cell_type": "markdown",
      "id": "3abb2e78",
      "metadata": {
        "id": "3abb2e78"
      },
      "source": [
        "Let's make it a scatterplot instead with the `scatter()` function.\n",
        "We can use keyword arguments like `facecolor` and `edgecolor` to change the styling. `matplotlib` lets us specify colour with RGB(A) tuples, hexadecimal strings, single-character shortcodes, and [even xkcd colours](https://matplotlib.org/stable/tutorials/colors/colors.html)."
      ]
    },
    {
      "cell_type": "code",
      "execution_count": null,
      "id": "ea816ed2",
      "metadata": {
        "colab": {
          "base_uri": "https://localhost:8080/",
          "height": 447
        },
        "id": "ea816ed2",
        "outputId": "0dbd6bec-d076-41d5-9b48-e8c53ca051a2"
      },
      "outputs": [],
      "source": [
        "plt.scatter(neighbourhoods['pop_2016'],\n",
        "            neighbourhoods['bike'],\n",
        "            marker='s',  # square marker\n",
        "            facecolor='#fb1',\n",
        "            edgecolor='k') # black"
      ]
    },
    {
      "cell_type": "markdown",
      "id": "d6c629ff",
      "metadata": {
        "id": "d6c629ff"
      },
      "source": [
        "Using the `pyplot` approach, the outputs of successive function calls in the same cell context are layered on. Let's layer driving and biking commuter counts and add a legend."
      ]
    },
    {
      "cell_type": "code",
      "execution_count": null,
      "id": "0902ede1",
      "metadata": {
        "colab": {
          "base_uri": "https://localhost:8080/",
          "height": 447
        },
        "id": "0902ede1",
        "outputId": "ea069f51-5325-4507-b2a1-3db35f48f65b"
      },
      "outputs": [],
      "source": [
        "plt.scatter(neighbourhoods['pop_2016'],\n",
        "            neighbourhoods['drive'],\n",
        "            edgecolor='k',\n",
        "            label='Driving')\n",
        "plt.scatter(neighbourhoods['pop_2016'],\n",
        "            neighbourhoods['bike'],\n",
        "            edgecolor='w',\n",
        "            label='Cycling')\n",
        "plt.legend()"
      ]
    },
    {
      "cell_type": "markdown",
      "id": "37982c4d",
      "metadata": {
        "id": "37982c4d"
      },
      "source": [
        "Calls in a different cell are treated as a new Axes."
      ]
    },
    {
      "cell_type": "code",
      "execution_count": null,
      "id": "2d5b2370",
      "metadata": {
        "colab": {
          "base_uri": "https://localhost:8080/",
          "height": 435
        },
        "id": "2d5b2370",
        "outputId": "97b83261-e8e2-4621-e6c3-406ba145c591"
      },
      "outputs": [],
      "source": [
        "plt.grid()"
      ]
    },
    {
      "cell_type": "markdown",
      "id": "3b65fd25",
      "metadata": {
        "id": "3b65fd25"
      },
      "source": [
        "## Object-oriented approach to plotting\n",
        "\n",
        "The object-oriented approach is the preferred method of plotting with `matplotlib`. In this approach, we use the `subplots()` function to create plot objects, then call methods to modify them.\n",
        "\n",
        "By default, `subplots()` returns one Figure and one Axes. We can use Python's unpacking syntax to assign the Figure and Axes to their own variables in one line."
      ]
    },
    {
      "cell_type": "code",
      "execution_count": null,
      "id": "1da34a27",
      "metadata": {
        "colab": {
          "base_uri": "https://localhost:8080/",
          "height": 452
        },
        "id": "1da34a27",
        "outputId": "08080941-3a1f-47ac-caec-add109e34561"
      },
      "outputs": [],
      "source": [
        "fig, ax = plt.subplots()\n",
        "print(f'{type(fig)}, {type(ax)}')"
      ]
    },
    {
      "cell_type": "markdown",
      "id": "9e3bb3bd",
      "metadata": {
        "id": "9e3bb3bd"
      },
      "source": [
        "The Axes is empty. Let's plot data on it with the Axes `scatter()` method. This method updates `ax` with a scatterplot. To make it easier to refer to each scatterplot later, we assign the outputs to their own variables, `drivers` and `cyclists`."
      ]
    },
    {
      "cell_type": "code",
      "execution_count": null,
      "id": "87d91f1e",
      "metadata": {
        "colab": {
          "base_uri": "https://localhost:8080/",
          "height": 430
        },
        "id": "87d91f1e",
        "outputId": "98a1f0ce-2bec-4a07-be22-9f9884dc3168"
      },
      "outputs": [],
      "source": [
        "drivers = ax.scatter(neighbourhoods['pop_2016'],\n",
        "           neighbourhoods['drive'])\n",
        "cyclists = ax.scatter(neighbourhoods['pop_2016'],\n",
        "           neighbourhoods['bike'])\n",
        "total = ax.scatter(neighbourhoods['pop_2016'],\n",
        "                  neighbourhoods['total_commuters'])\n",
        "fig"
      ]
    },
    {
      "cell_type": "markdown",
      "id": "75f9ab18",
      "metadata": {
        "id": "75f9ab18"
      },
      "source": [
        "## Adding labels, a title, and grid\n",
        "\n",
        "This graph doesn't give much context. To add a title, we can use the Axes `set_title()` method, which takes the title as a string, plus optional arguments like `fontsize`. Similarly, we can set x and y labels with the `set_xlabel()` and `set_ylabel()` methods. Finally, let's add a grid with the Axes `grid()` method, and use the `alpha` parameter to make it translucent. We'll also use the `set_axisbelow()` method to make sure markers draw over the grid."
      ]
    },
    {
      "cell_type": "code",
      "execution_count": null,
      "id": "3cded2b4",
      "metadata": {
        "colab": {
          "base_uri": "https://localhost:8080/",
          "height": 472
        },
        "id": "3cded2b4",
        "outputId": "805fff9b-594b-422d-b757-9f5f4f42d424",
        "scrolled": true
      },
      "outputs": [],
      "source": [
        "ax.set_title('Neighbourhood Population vs Commuter Population')\n",
        "ax.set_xlabel('Population, 2016')\n",
        "ax.set_ylabel('Commuters')\n",
        "ax.set_axisbelow(True)\n",
        "ax.grid(alpha=0.3)\n",
        "fig"
      ]
    },
    {
      "cell_type": "markdown",
      "id": "d595f7e0",
      "metadata": {
        "id": "d595f7e0"
      },
      "source": [
        "## Adding a legend\n",
        "\n",
        "This graph could use a legend. To add one, we call the Axes `legend()` method. If we passed a `label` argument in the `scatter()` calls, `legend()` would use those labels. However, because we did not, we pass a list of the geometries to use in the legend, plus a list of labels to show."
      ]
    },
    {
      "cell_type": "code",
      "execution_count": null,
      "id": "0c224034",
      "metadata": {
        "colab": {
          "base_uri": "https://localhost:8080/",
          "height": 472
        },
        "id": "0c224034",
        "outputId": "958162e7-d219-45fc-c2d4-acda3e0a75b7"
      },
      "outputs": [],
      "source": [
        "ax.legend([drivers, cyclists, total],\n",
        "          ['Drivers', 'Cyclists', 'Total Commuters'])\n",
        "fig"
      ]
    },
    {
      "cell_type": "markdown",
      "id": "8363154c",
      "metadata": {
        "id": "8363154c"
      },
      "source": [
        "To place the legend outside the Axes, we can pass a tuple with the `bbox_to_anchor` argument. The legend's `loc` corner will be placed at the coordinates in the `bbox_to_anchor` tuple."
      ]
    },
    {
      "cell_type": "code",
      "execution_count": null,
      "id": "1640beac",
      "metadata": {
        "colab": {
          "base_uri": "https://localhost:8080/",
          "height": 472
        },
        "id": "1640beac",
        "outputId": "2e5ebd8c-911b-4110-e427-4824961623ce"
      },
      "outputs": [],
      "source": [
        "ax.legend([drivers, cyclists, total],\n",
        "          ['Drivers', 'Cyclists', 'Total Commuters'],\n",
        "          bbox_to_anchor=(1, 1),\n",
        "          loc='upper left')\n",
        "fig"
      ]
    },
    {
      "cell_type": "markdown",
      "id": "a3fcb064",
      "metadata": {
        "id": "a3fcb064"
      },
      "source": [
        "## Modifying axis ticks\n",
        "\n",
        "We can change how the x-axis and y-axis are formatted by accessing an Axes `xaxis` and `yaxis` attributes and calling methods like `set_ticks()` or `set_major_formatter()`."
      ]
    },
    {
      "cell_type": "markdown",
      "id": "19e02cd9",
      "metadata": {
        "id": "19e02cd9"
      },
      "source": [
        "Some configurations of Python and `matplotlib` allow us to pass a format string by itself to `set_major_formatter()`. Older versions require that we import `matplotlib`'s `ticker` submodule and create a `StrMethodFormatter` with the format string we want to use."
      ]
    },
    {
      "cell_type": "code",
      "execution_count": null,
      "id": "46604cfd",
      "metadata": {
        "id": "46604cfd"
      },
      "outputs": [],
      "source": [
        "import matplotlib.ticker as tick"
      ]
    },
    {
      "cell_type": "code",
      "execution_count": null,
      "id": "3aaf30db",
      "metadata": {
        "colab": {
          "base_uri": "https://localhost:8080/",
          "height": 472
        },
        "id": "3aaf30db",
        "outputId": "63cb9b3b-d4f1-4c8c-f6ad-ea43fd6c9f5c"
      },
      "outputs": [],
      "source": [
        "# label with a thousands place comma and zero decimal places\n",
        "ax.xaxis.set_major_formatter(tick.StrMethodFormatter('{x:,.0f}'))\n",
        "ax.yaxis.set_major_formatter(tick.StrMethodFormatter('{x:,.0f}'))\n",
        "# %:, use comma as thousand separator\n",
        "# .0f zero decimal places\n",
        "fig"
      ]
    },
    {
      "cell_type": "markdown",
      "id": "541195a4",
      "metadata": {
        "id": "541195a4"
      },
      "source": [
        "We can also change axis limits."
      ]
    },
    {
      "cell_type": "code",
      "execution_count": null,
      "id": "cb42de90",
      "metadata": {
        "id": "cb42de90"
      },
      "outputs": [],
      "source": [
        "#ax.xaxis.set_ticks(np.arange(0, max(neighbourhoods['pop_2016']+10), 10000))"
      ]
    },
    {
      "cell_type": "code",
      "execution_count": null,
      "id": "eb1d3683",
      "metadata": {
        "colab": {
          "base_uri": "https://localhost:8080/"
        },
        "id": "eb1d3683",
        "outputId": "0bbaf9ec-b50d-4a2a-8d22-0d3a7f433595"
      },
      "outputs": [],
      "source": [
        "ax.axis()"
      ]
    },
    {
      "cell_type": "code",
      "execution_count": null,
      "id": "0c2f4831",
      "metadata": {
        "colab": {
          "base_uri": "https://localhost:8080/",
          "height": 472
        },
        "id": "0c2f4831",
        "outputId": "d9737730-a87e-44c2-d71b-6247cf15a332"
      },
      "outputs": [],
      "source": [
        "ax.set(ylim=(0, ax.axis()[1])) # make the y-axis match the x-axis\n",
        "fig"
      ]
    },
    {
      "cell_type": "markdown",
      "id": "0ea5f7b3",
      "metadata": {
        "id": "0ea5f7b3"
      },
      "source": [
        "## Changing styles\n",
        "\n",
        "`matplotlib` comes with a bunch of predefined styles. We can view the available ones with `plt.style.available`. Passing one of the options to `style.use()` makes it the aesthetic style for all new plots. **Already created Figures and Axes are not affected.**"
      ]
    },
    {
      "cell_type": "code",
      "execution_count": null,
      "id": "fb405481",
      "metadata": {
        "colab": {
          "base_uri": "https://localhost:8080/"
        },
        "id": "fb405481",
        "outputId": "59ea1025-3768-4177-e9b0-e7a770bc629e",
        "scrolled": true
      },
      "outputs": [],
      "source": [
        "plt.style.available[5:10]  # print a subset"
      ]
    },
    {
      "cell_type": "code",
      "execution_count": null,
      "id": "2bef792f",
      "metadata": {
        "colab": {
          "base_uri": "https://localhost:8080/",
          "height": 472
        },
        "id": "2bef792f",
        "outputId": "5760ea5e-4f88-43c5-dc71-38f1017251d5"
      },
      "outputs": [],
      "source": [
        "# set style for new plots\n",
        "plt.style.use('fivethirtyeight')\n",
        "\n",
        "# notice that the style of fig did not change\n",
        "fig"
      ]
    },
    {
      "cell_type": "markdown",
      "id": "1cfc9184",
      "metadata": {
        "id": "1cfc9184"
      },
      "source": [
        "## Other plot types\n",
        "\n",
        "Of course, `matplotlib` offers more than just line plots and scatterplots. Among the many kinds of plots we can make are bar plots, histograms, and boxplots. To create each the object-oriented way, we call the appropriate Axes method, like `Axes.boxplot()` or `Axes.barh()`, for a horizontal bar plot."
      ]
    },
    {
      "cell_type": "code",
      "execution_count": null,
      "id": "c99f72c2",
      "metadata": {
        "colab": {
          "base_uri": "https://localhost:8080/",
          "height": 309
        },
        "id": "c99f72c2",
        "outputId": "3f83e101-6bcb-43de-f283-70772db06f86"
      },
      "outputs": [],
      "source": [
        "# review the neighbourhoods data\n",
        "neighbourhoods.head()"
      ]
    },
    {
      "cell_type": "code",
      "execution_count": null,
      "id": "5ea6c050",
      "metadata": {
        "colab": {
          "base_uri": "https://localhost:8080/",
          "height": 549
        },
        "id": "5ea6c050",
        "outputId": "ac0cd050-6830-4b39-b8c0-ed9004ffa381"
      },
      "outputs": [],
      "source": [
        "# get just the 10 biggest neighbourhoods to plot\n",
        "top10_pop = neighbourhoods.sort_values('pop_2016', ascending=False).head(10)\n",
        "top10_pop"
      ]
    },
    {
      "cell_type": "code",
      "execution_count": null,
      "id": "2cfee7a8",
      "metadata": {
        "colab": {
          "base_uri": "https://localhost:8080/",
          "height": 525
        },
        "id": "2cfee7a8",
        "outputId": "40ec93f9-752e-4e83-9a38-61fe4cfc5860"
      },
      "outputs": [],
      "source": [
        "bar_fig, bar_ax = plt.subplots()\n",
        "bar_ax.barh(top10_pop['neighbourhood'], top10_pop['pop_2016'])\n",
        "bar_ax.xaxis.set_major_formatter(tick.StrMethodFormatter('{x:,.0f}'))\n",
        "bar_ax.set_axisbelow(True)\n",
        "bar_ax.grid(alpha=0.3)\n",
        "bar_ax.set_title('Most Populous Toronto Neighbourhoods')\n",
        "bar_ax.set_xlabel('Population, 2016')"
      ]
    },
    {
      "cell_type": "code",
      "execution_count": null,
      "id": "2f5a3a5c",
      "metadata": {
        "colab": {
          "base_uri": "https://localhost:8080/",
          "height": 496
        },
        "id": "2f5a3a5c",
        "outputId": "9827a54e-0b75-46fe-f74f-ca9aafe0b129"
      },
      "outputs": [],
      "source": [
        "# create a box plot\n",
        "box_fig, box_ax = plt.subplots()\n",
        "box_ax.boxplot([neighbourhoods['pct_transit'],\n",
        "                neighbourhoods['pct_walk'],\n",
        "                neighbourhoods['pct_drive']],\n",
        "               # add labels so we know which box is which var\n",
        "              labels=['% Transit', '% Walk', '% Drive'])\n",
        "box_ax.yaxis.set_major_formatter(tick.StrMethodFormatter('{x:.0%}'))\n",
        "# percentage format\n",
        "box_ax.set_title('Neighbourhood Commuter Modes')"
      ]
    },
    {
      "cell_type": "code",
      "execution_count": null,
      "id": "0357183b",
      "metadata": {
        "colab": {
          "base_uri": "https://localhost:8080/",
          "height": 525
        },
        "id": "0357183b",
        "outputId": "bb8e5115-71a8-4aa9-b4d3-e65bd1530730"
      },
      "outputs": [],
      "source": [
        "# create a histogram\n",
        "hist_fig, hist_ax = plt.subplots()\n",
        "hist_ax.hist(neighbourhoods['transit'],\n",
        "             # count the neighbourhoods with 0-1000 transit commuters,\n",
        "             # 1001-2000 transit commuters, etc\n",
        "             bins=range(0, 12000, 1000))\n",
        "hist_ax.xaxis.set_major_formatter(tick.StrMethodFormatter('{x:,.0f}'))\n",
        "hist_ax.set_title('Transit Commuter Distribution')\n",
        "hist_ax.set_xlabel('# of Transit Commuters')\n",
        "hist_ax.set_ylabel('# of Neighbourhoods')"
      ]
    },
    {
      "cell_type": "markdown",
      "id": "8c46068d",
      "metadata": {
        "id": "8c46068d"
      },
      "source": [
        "## Layering plots\n",
        "\n",
        "We've seen that a single Axes can have more than one set of data points plotted on it with our multi-modal scatterplot. We can similarly layer on other graphics, using the `alpha` argument to set transparency."
      ]
    },
    {
      "cell_type": "code",
      "execution_count": null,
      "id": "24e04bc4",
      "metadata": {
        "colab": {
          "base_uri": "https://localhost:8080/",
          "height": 156
        },
        "id": "24e04bc4",
        "outputId": "b4a851fa-6d40-4e94-f338-52afe0e6c7da",
        "scrolled": true
      },
      "outputs": [],
      "source": [
        "layer_fig, layer_ax = plt.subplots()\n",
        "\n",
        "settings = {'alpha': 0.4, 'bins': np.arange(0, 1, .05)}\n",
        "\n",
        "layer_ax.hist(neighbourhoods['pct_drive'], label='Drive', **settings)\n",
        "layer_ax.hist(neighbourhoods['pct_transit'], label='Transit', **settings)\n",
        "layer_ax.xaxis.set_major_formatter(tick.StrMethodFormatter('{x:.0%}'))\n",
        "layer_ax.set_axisbelow(True)\n",
        "layer_ax.grid(alpha=0.3, linestyle='--')\n",
        "layer_ax.set_title('Commute Mode Distribution')\n",
        "layer_ax.legend()\n",
        "layer_ax"
      ]
    },
    {
      "cell_type": "markdown",
      "id": "71022ba7",
      "metadata": {
        "id": "71022ba7"
      },
      "source": [
        "## More complex plots\n",
        "\n",
        "Let's try plotting the number of reported bike thefts each year by whether the bike was recovered or not. We'll need to wrangle the theft data a bit to get counts by year and status. Then, we'll use the data to make a `stackplot()`. Finally, we'll style it."
      ]
    },
    {
      "cell_type": "code",
      "execution_count": null,
      "id": "ec876bd3",
      "metadata": {
        "colab": {
          "base_uri": "https://localhost:8080/"
        },
        "id": "ec876bd3",
        "outputId": "8c671679-91d7-42c5-a9db-b29f1a28cc7b"
      },
      "outputs": [],
      "source": [
        "# review the available columns\n",
        "thefts_joined.columns"
      ]
    },
    {
      "cell_type": "code",
      "execution_count": null,
      "id": "8f4630ad",
      "metadata": {
        "colab": {
          "base_uri": "https://localhost:8080/",
          "height": 441
        },
        "id": "8f4630ad",
        "outputId": "cc8f0375-d955-423b-f59b-ba7fd3112d02"
      },
      "outputs": [],
      "source": [
        "thefts_grouped = (thefts_joined\n",
        "                  .groupby(['occurrence_year', 'status'])\n",
        "                  .agg(thefts=('_id', 'count'))\n",
        "                  .reset_index()  # make occurrence year a regular col\n",
        "                  .pivot(index='occurrence_year', columns='status', values='thefts')\n",
        "                  .reset_index()  # ...and again\n",
        "                  .fillna(0))\n",
        "thefts_grouped"
      ]
    },
    {
      "cell_type": "code",
      "execution_count": null,
      "id": "b1d8c05c",
      "metadata": {
        "colab": {
          "base_uri": "https://localhost:8080/",
          "height": 105
        },
        "id": "b1d8c05c",
        "outputId": "bbb72316-dc9d-421e-f5b0-b630af763551"
      },
      "outputs": [],
      "source": [
        "stfig, stax = plt.subplots()\n",
        "\n",
        "stax.stackplot(thefts_grouped['occurrence_year'], thefts_grouped['STOLEN'],\n",
        "        thefts_grouped['RECOVERED'], thefts_grouped['UNKNOWN'],\n",
        "       labels=['Stolen', 'Recovered', 'Unknown'])\n",
        "stax.set_axisbelow(True)\n",
        "stax.grid(alpha=0.3)\n",
        "stax.legend(loc='upper left')\n",
        "stax.set_title('Reported Bike Thefts by Recovery Status')\n",
        "stax.set_ylabel('Reported Thefts')\n",
        "stax.set_xlabel('Year')"
      ]
    },
    {
      "cell_type": "markdown",
      "id": "797f9027",
      "metadata": {
        "id": "797f9027"
      },
      "source": [
        "## Subplots\n",
        "\n",
        "We can create multiple Axes in one Figure by passing `nrows` and `ncols` arguments to `subplots()`. The number of Axes we get equals `nrows` * `ncols`. Multiple Axes are returned as a `numpy` array."
      ]
    },
    {
      "cell_type": "code",
      "execution_count": null,
      "id": "b4e77204",
      "metadata": {
        "colab": {
          "base_uri": "https://localhost:8080/",
          "height": 54
        },
        "id": "b4e77204",
        "outputId": "46d81eb9-d76c-4044-80b6-96b8fc9158e6",
        "scrolled": true
      },
      "outputs": [],
      "source": [
        "modefig, (ax1, ax2) = plt.subplots(nrows=1, ncols=2, sharey=True)\n",
        "ax1.scatter(neighbourhoods['pop_2016'],\n",
        "           neighbourhoods['drive'])\n",
        "ax2.scatter(neighbourhoods['pop_2016'],\n",
        "           neighbourhoods['bike'])\n",
        "ax1.set_title('Drivers')\n",
        "ax2.set_title('Cyclists')\n",
        "ax1.yaxis.set_major_formatter(tick.StrMethodFormatter('{x:,.0f}'))\n",
        "ax1.xaxis.set_major_formatter(tick.StrMethodFormatter('{x:,.0f}'))\n",
        "ax2.xaxis.set_major_formatter(tick.StrMethodFormatter('{x:,.0f}'))\n",
        "modefig.suptitle('Commuters by Mode and Neighbourhood Population')\n",
        "modefig.tight_layout()"
      ]
    },
    {
      "cell_type": "markdown",
      "id": "83cf96b4",
      "metadata": {
        "id": "83cf96b4"
      },
      "source": [
        "### Unpacking subplots\n",
        "\n",
        "As the number of subplots grows, it gets cumbersome to unpack them in the assignment statement. We can temporarily assign all of them to a single variable."
      ]
    },
    {
      "cell_type": "code",
      "execution_count": null,
      "id": "75456e0f",
      "metadata": {
        "colab": {
          "base_uri": "https://localhost:8080/",
          "height": 224
        },
        "id": "75456e0f",
        "outputId": "a55a9b69-0904-46cf-938f-376064a6c3d6"
      },
      "outputs": [],
      "source": [
        "# make a 2x2 grid of subplots\n",
        "modefig2, mode_ax = plt.subplots(nrows=2, ncols=2, sharey=True, sharex=True)\n",
        "mode_ax"
      ]
    },
    {
      "cell_type": "markdown",
      "id": "a164c83d",
      "metadata": {
        "id": "a164c83d"
      },
      "source": [
        "The Axes are arranged in a 2x2 array. It would be more straightforward to refer to them if we had a 1x4 array instead."
      ]
    },
    {
      "cell_type": "code",
      "execution_count": null,
      "id": "e466f883",
      "metadata": {
        "colab": {
          "base_uri": "https://localhost:8080/"
        },
        "id": "e466f883",
        "outputId": "95e8a6b8-e0e6-4613-b0de-da15d67722af"
      },
      "outputs": [],
      "source": [
        "# accessing items in a 2x2 array can be annoying\n",
        "mode_ax"
      ]
    },
    {
      "cell_type": "code",
      "execution_count": null,
      "id": "a0998f95",
      "metadata": {
        "colab": {
          "base_uri": "https://localhost:8080/"
        },
        "id": "a0998f95",
        "outputId": "66b6aa5f-3c6c-4a77-c171-c023f5d1fb7d"
      },
      "outputs": [],
      "source": [
        "# example: getting the bottom left Axes\n",
        "mode_ax[1, 0]"
      ]
    },
    {
      "cell_type": "markdown",
      "id": "694b8393",
      "metadata": {
        "id": "694b8393"
      },
      "source": [
        "We can take advantage of `numpy` arrays' `flatten()` method. Recall that `flatten()` returns a new array with all the elements arranged in a single row. We can then unpack the elements of that row and assign them to individual variables."
      ]
    },
    {
      "cell_type": "code",
      "execution_count": null,
      "id": "15210373",
      "metadata": {
        "colab": {
          "base_uri": "https://localhost:8080/"
        },
        "id": "15210373",
        "outputId": "bfbf9764-b21e-4bd5-961b-69293a0f3da3"
      },
      "outputs": [],
      "source": [
        "# recall what flatten() does\n",
        "mode_ax.flatten()"
      ]
    },
    {
      "cell_type": "code",
      "execution_count": null,
      "id": "2248ef58",
      "metadata": {
        "colab": {
          "base_uri": "https://localhost:8080/",
          "height": 54
        },
        "id": "2248ef58",
        "outputId": "5a79fb43-d7e9-4309-d37d-4fe7f4a1caac"
      },
      "outputs": [],
      "source": [
        "a1, a2, a3, a4 = mode_ax.flatten()\n",
        "modefig2  # we haven't changed the Figure"
      ]
    },
    {
      "cell_type": "markdown",
      "id": "560b3cf8",
      "metadata": {
        "id": "560b3cf8"
      },
      "source": [
        "### Plotting with helper functions\n",
        "\n",
        "Plotting commute mode against total population four times will be tedious. To reuse code, we can write a helper function that takes an Axes, the mode we're plotting, and a dictionary of style parameters and updates the Axes. `**param_dict` unpacks the dictionary of parameters and arguments passed to `plot_modes()` and passes them on to `scatter()`."
      ]
    },
    {
      "cell_type": "code",
      "execution_count": null,
      "id": "1352ce12",
      "metadata": {
        "id": "1352ce12"
      },
      "outputs": [],
      "source": [
        "def plot_modes(ax, mode, param_dict):\n",
        "    '''\n",
        "    Helper function to plot neighbourhood pop\n",
        "    against commuting mode.\n",
        "    '''\n",
        "    defaults = {'alpha': 0.45, 's': 10} #'s' --> style\n",
        "    defaults.update(param_dict)\n",
        "    out = ax.scatter(neighbourhoods['pop_2016'],\n",
        "                     neighbourhoods[mode],\n",
        "                     **defaults)\n",
        "    return out"
      ]
    },
    {
      "cell_type": "markdown",
      "id": "0fdfdbf8",
      "metadata": {
        "id": "0fdfdbf8"
      },
      "source": [
        "Then, we can call `plot_modes` to plot each of the subplots."
      ]
    },
    {
      "cell_type": "code",
      "execution_count": null,
      "id": "8f27651f",
      "metadata": {
        "colab": {
          "base_uri": "https://localhost:8080/",
          "height": 54
        },
        "id": "8f27651f",
        "outputId": "871b634c-32be-4b7a-ca3c-b7cee05e3448"
      },
      "outputs": [],
      "source": [
        "# add data to each axes\n",
        "plot_modes(a1, 'drive', {'label': 'drive', 'facecolor': 'k'})\n",
        "plot_modes(a2, 'transit', {'label': 'transit', 'facecolor': 'b'})\n",
        "plot_modes(a3, 'walk', {'label': 'walk', 'facecolor': 'm'})\n",
        "plot_modes(a4, 'bike', {'label': 'bike', 'facecolor': 'g'})\n",
        "modefig2.legend(bbox_to_anchor=(1, 1), loc='upper left')\n",
        "modefig2.tight_layout()\n",
        "modefig2.suptitle('Commuter Modes')\n",
        "modefig2"
      ]
    },
    {
      "cell_type": "markdown",
      "id": "692f2f8c",
      "metadata": {
        "id": "692f2f8c"
      },
      "source": [
        "### Clearing plots\n",
        "\n",
        "Successive method calls on an Axes object layer on graphics. To clear everything from an Axes, we can use its `clear()` method. To clear every subplot in a Figure, we can loop through the flattened array of Axes and `clear()` each Axes in turn."
      ]
    },
    {
      "cell_type": "code",
      "execution_count": null,
      "id": "f79820d6",
      "metadata": {
        "id": "f79820d6"
      },
      "outputs": [],
      "source": [
        "for axes in mode_ax.flatten():\n",
        "    axes.clear()"
      ]
    },
    {
      "cell_type": "code",
      "execution_count": null,
      "id": "83364e70",
      "metadata": {
        "colab": {
          "base_uri": "https://localhost:8080/",
          "height": 54
        },
        "id": "83364e70",
        "outputId": "8ec3e0cd-b685-4858-dbd5-0de0d4f5893d"
      },
      "outputs": [],
      "source": [
        "modefig2"
      ]
    },
    {
      "cell_type": "code",
      "execution_count": null,
      "id": "411c8746",
      "metadata": {
        "id": "411c8746"
      },
      "outputs": [],
      "source": [
        "# let's reset our style before moving on\n",
        "plt.style.use('default')"
      ]
    },
    {
      "cell_type": "markdown",
      "id": "372360ad",
      "metadata": {
        "id": "372360ad"
      },
      "source": [
        "# `seaborn`"
      ]
    },
    {
      "cell_type": "markdown",
      "id": "15f60e7c",
      "metadata": {
        "id": "15f60e7c"
      },
      "source": [
        "## Easier plotting with `seaborn`\n",
        "\n",
        "`seaborn` builds upon and complements `matplotlib`, producing nicer-looking Axes with less code, and giving us a few more convenient plot types. `seaborn` is typically given the alias `sns`, after a pop culture reference."
      ]
    },
    {
      "cell_type": "code",
      "execution_count": null,
      "id": "e3bb2277",
      "metadata": {},
      "outputs": [],
      "source": [
        "# If there are issues with library installation please type the following commands into Terminal:\n",
        "\n",
        "# conda install seaborn"
      ]
    },
    {
      "cell_type": "code",
      "execution_count": null,
      "id": "c4a4b11a",
      "metadata": {
        "id": "c4a4b11a"
      },
      "outputs": [],
      "source": [
        "import seaborn as sns"
      ]
    },
    {
      "cell_type": "markdown",
      "id": "7d0ee9ed",
      "metadata": {
        "id": "7d0ee9ed"
      },
      "source": [
        "With `seaborn`, we have two ways of structuring arguments to plotting functions:\n",
        "* specifying the `x` and `y` axis columns\n",
        "* specifying the `data` we are visualizing, then the `x` and `y` axis columns"
      ]
    },
    {
      "cell_type": "code",
      "execution_count": null,
      "id": "17babaa0",
      "metadata": {
        "colab": {
          "base_uri": "https://localhost:8080/",
          "height": 105
        },
        "id": "17babaa0",
        "outputId": "f00b5fb9-7c03-4e2d-b434-8e44c1af8a53"
      },
      "outputs": [],
      "source": [
        "# use x and y axis columns\n",
        "sns.scatterplot(x=neighbourhoods['pop_dens'],\n",
        "                y=neighbourhoods['pct_transit'])"
      ]
    },
    {
      "cell_type": "code",
      "execution_count": null,
      "id": "50aa79df",
      "metadata": {
        "colab": {
          "base_uri": "https://localhost:8080/",
          "height": 105
        },
        "id": "50aa79df",
        "outputId": "945bb5d8-6f47-4611-b75b-f78a6789922f"
      },
      "outputs": [],
      "source": [
        "# use the dataframe and column names\n",
        "sns.scatterplot(data=neighbourhoods,\n",
        "                x='pop_dens',\n",
        "                y='pct_transit')"
      ]
    },
    {
      "cell_type": "markdown",
      "id": "78d42d8a",
      "metadata": {
        "id": "78d42d8a"
      },
      "source": [
        "For comparison, we can create the same plot using `matplotlib`'s `pyplot` approach."
      ]
    },
    {
      "cell_type": "code",
      "execution_count": null,
      "id": "cb33c707",
      "metadata": {
        "colab": {
          "base_uri": "https://localhost:8080/",
          "height": 105
        },
        "id": "cb33c707",
        "outputId": "457ccbbf-ab58-4f8b-8c94-ca17f349d150"
      },
      "outputs": [],
      "source": [
        "plt.scatter(neighbourhoods['pop_dens'],\n",
        "            neighbourhoods['pct_transit'])"
      ]
    },
    {
      "cell_type": "markdown",
      "id": "40b12ed0",
      "metadata": {
        "id": "40b12ed0"
      },
      "source": [
        "## `seaborn` and object-oriented `matplotlib`\n",
        "\n",
        "We can use `seaborn` as a complement to `matplotlib`'s object-oriented approach. `seaborn` functions that work in individual plots have an optional keyword argument that lets us pass in an existing Axes to update. As a bonus, they return the Axes we're working with, making it easy to chain methods together.\n",
        "\n",
        "Let's revisit our 10 biggest Toronto neighbourhoods chart."
      ]
    },
    {
      "cell_type": "markdown",
      "id": "57edb59a",
      "metadata": {
        "id": "57edb59a"
      },
      "source": [
        "This was the code to create that plot. We'll recreate it with `seaborn`.\n",
        "\n",
        "```python\n",
        "bar_fig, bar_ax = plt.subplots()\n",
        "bar_ax.barh(top10_pop['neighbourhood'], top10_pop['pop_2016'])\n",
        "bar_ax.xaxis.set_major_formatter('{x:,.0f}')\n",
        "bar_ax.set_axisbelow(True)\n",
        "bar_ax.grid(alpha=0.3)\n",
        "bar_ax.set_title('Most Populous Toronto Neighbourhoods')\n",
        "bar_ax.set_xlabel('Population, 2016')\n",
        "```"
      ]
    },
    {
      "cell_type": "code",
      "execution_count": null,
      "id": "NXSArMgWl79Q",
      "metadata": {
        "colab": {
          "base_uri": "https://localhost:8080/",
          "height": 549
        },
        "id": "NXSArMgWl79Q",
        "outputId": "051a9651-1193-4bb9-8fff-db85d0e04e6a"
      },
      "outputs": [],
      "source": [
        "top10_pop = neighbourhoods.sort_values('pop_2016', ascending=False).head(10)\n",
        "top10_pop"
      ]
    },
    {
      "cell_type": "code",
      "execution_count": null,
      "id": "tFakWncZliHl",
      "metadata": {
        "colab": {
          "base_uri": "https://localhost:8080/",
          "height": 122
        },
        "id": "tFakWncZliHl",
        "outputId": "846ffe6c-948b-4a58-d541-4081e3cc1381"
      },
      "outputs": [],
      "source": [
        "bar_fig, bar_ax = plt.subplots()\n",
        "bar_ax.barh(top10_pop['neighbourhood'], top10_pop['pop_2016'])\n",
        "bar_ax.xaxis.set_major_formatter(tick.StrMethodFormatter('{x:,.0f}'))\n",
        "bar_ax.set_axisbelow(True)\n",
        "bar_ax.grid(alpha=0.3)\n",
        "bar_ax.set_title('Most Populous Toronto Neighbourhoods')\n",
        "bar_ax.set_xlabel('Population, 2016')"
      ]
    },
    {
      "cell_type": "code",
      "execution_count": null,
      "id": "67989ff0",
      "metadata": {
        "colab": {
          "base_uri": "https://localhost:8080/",
          "height": 54
        },
        "id": "67989ff0",
        "outputId": "1cc075ce-5057-4750-c66d-25491179f2dd"
      },
      "outputs": [],
      "source": [
        "bar_fig"
      ]
    },
    {
      "cell_type": "markdown",
      "id": "eb2e7847",
      "metadata": {
        "id": "eb2e7847"
      },
      "source": [
        "And with `seaborn`:"
      ]
    },
    {
      "cell_type": "code",
      "execution_count": null,
      "id": "fc1c91e8",
      "metadata": {
        "colab": {
          "base_uri": "https://localhost:8080/",
          "height": 54
        },
        "id": "fc1c91e8",
        "outputId": "061e0824-2979-4453-b258-fca9fd49dfb5"
      },
      "outputs": [],
      "source": [
        "sns.set_theme()  # use seaborn's default style settings going forward\n",
        "\n",
        "sns_fig, sns_ax = plt.subplots()  # create a Figure and Axes\n",
        "(sns.barplot(data=top10_pop,  # set datasource\n",
        "            x='pop_2016',  # for a horizontal bar graph\n",
        "            y='neighbourhood',\n",
        "            ax=sns_ax)  # plot on an existing Axes\n",
        " .set(xlabel='Population, 2016',\n",
        "      ylabel='Neighbourhood'))\n",
        "\n",
        "# .set() returns text, so we can't chain .set_title()\n",
        "sns_ax.set_title('Most Populous Toronto Neighbourhoods',\n",
        "                fontdict={'fontsize': 18})\n",
        "sns_ax.xaxis.set_major_formatter(tick.StrMethodFormatter('{x:,.0f}'))"
      ]
    },
    {
      "cell_type": "markdown",
      "id": "dd6217e3",
      "metadata": {
        "id": "dd6217e3"
      },
      "source": [
        "## Facets\n",
        "\n",
        "With `matplotlib`, we created individual subplots and updated them with a helper function to visualize data for different categories. With `seaborn`, we can create a `FacetGrid` and then use its `map()` method to visualize data by category. `map()` takes the name of the plotting function to use, then the needed arguments, such as the columns to use for the x-axis and y-axis."
      ]
    },
    {
      "cell_type": "code",
      "execution_count": null,
      "id": "87ef4a97",
      "metadata": {
        "colab": {
          "base_uri": "https://localhost:8080/",
          "height": 258
        },
        "id": "87ef4a97",
        "outputId": "f0a7a912-3e70-4ac7-b9cb-4b651b90ed8a",
        "scrolled": true
      },
      "outputs": [],
      "source": [
        "# reshape neighbourhood data to support faceting\n",
        "neighbourhoods_reshaped = (neighbourhoods[['neighbourhood',\n",
        "                                           'pct_transit',\n",
        "                                           'pct_drive',\n",
        "                                           'pct_walk',\n",
        "                                           'pct_bike']]\n",
        "                           .melt(id_vars='neighbourhood'))\n",
        "neighbourhoods_reshaped.head()"
      ]
    },
    {
      "cell_type": "code",
      "execution_count": null,
      "id": "8e22ebb0",
      "metadata": {
        "colab": {
          "base_uri": "https://localhost:8080/",
          "height": 105
        },
        "id": "8e22ebb0",
        "outputId": "86d2adbf-9e35-4a9e-c6dd-5970b7f613c7"
      },
      "outputs": [],
      "source": [
        "# specify the data to use and the column to facet by\n",
        "# we'll give each variable its own row\n",
        "facets = sns.FacetGrid(data=neighbourhoods_reshaped,\n",
        "                       row='variable')\n",
        "\n",
        "# create a histogram for each mode\n",
        "facets.map(sns.histplot, 'value', binwidth=0.05)\n",
        "facets.set_axis_labels('%', '# of Neighbourhoods')"
      ]
    },
    {
      "cell_type": "markdown",
      "id": "05c993d4",
      "metadata": {
        "id": "05c993d4"
      },
      "source": [
        "For another example, we can plot reported bike thefts by year, faceted by status."
      ]
    },
    {
      "cell_type": "code",
      "execution_count": null,
      "id": "9313fcd1",
      "metadata": {
        "colab": {
          "base_uri": "https://localhost:8080/",
          "height": 105
        },
        "id": "9313fcd1",
        "outputId": "9660b9ed-7e2d-4db6-ab66-fae4a5ddef29"
      },
      "outputs": [],
      "source": [
        "# reshape the theft counts to support faceting\n",
        "theft_counts_long = thefts_grouped.melt(id_vars='occurrence_year',\n",
        "                                        value_name='Count')\n",
        "\n",
        "# specify the data to use and the column to facet by\n",
        "# we'll give each status its own row\n",
        "facets = sns.FacetGrid(data=theft_counts_long, row='status')\n",
        "\n",
        "# for each status, create a lineplot of counts by year\n",
        "facets.map(sns.lineplot, 'occurrence_year', 'Count')\n",
        "facets.set_axis_labels('Occurrence Year')"
      ]
    },
    {
      "cell_type": "markdown",
      "id": "9700be0f",
      "metadata": {
        "id": "9700be0f"
      },
      "source": [
        "### Visualization for EDA\n",
        "\n",
        "`seaborn`'s pair plots are particularly useful for exploratory analyses. `pairplot()` takes a DataFrame or series of columns and creates a Figure containing grid of scatterplots, allowing us to visually look for relationships between variables."
      ]
    },
    {
      "cell_type": "code",
      "execution_count": null,
      "id": "dfac4680",
      "metadata": {
        "colab": {
          "base_uri": "https://localhost:8080/"
        },
        "id": "dfac4680",
        "outputId": "d72188c6-1091-4f89-ee3e-318be32d1fbe"
      },
      "outputs": [],
      "source": [
        "# review the columns available\n",
        "neighbourhoods.columns"
      ]
    },
    {
      "cell_type": "code",
      "execution_count": null,
      "id": "c949fddd",
      "metadata": {
        "colab": {
          "base_uri": "https://localhost:8080/"
        },
        "id": "c949fddd",
        "outputId": "af35de95-4f35-40f0-e4d6-53f17b47511a"
      },
      "outputs": [],
      "source": [
        "# review just the numeric columns\n",
        "neighbourhoods.select_dtypes('number').columns"
      ]
    },
    {
      "cell_type": "code",
      "execution_count": null,
      "id": "d41ad627",
      "metadata": {
        "colab": {
          "base_uri": "https://localhost:8080/",
          "height": 54
        },
        "id": "d41ad627",
        "outputId": "5cdbb3eb-360d-49ff-ca96-724d6ec9fb43"
      },
      "outputs": [],
      "source": [
        "# select some columns to use in the pair plot\n",
        "cols = ['pop_2016', 'total_commuters', 'pct_drive', 'pct_transit', 'pct_walk', 'pct_bike']\n",
        "simple_pairs = sns.pairplot(neighbourhoods[cols])"
      ]
    },
    {
      "cell_type": "code",
      "execution_count": null,
      "id": "f128aefa",
      "metadata": {
        "colab": {
          "base_uri": "https://localhost:8080/",
          "height": 54
        },
        "id": "f128aefa",
        "outputId": "102ee3e9-50e2-4cbf-ae56-5c402baf0f71",
        "scrolled": true
      },
      "outputs": [],
      "source": [
        "# if we include non-numeric variables, they won't be plotted, but we can use them for hue\n",
        "cols = ['pop_2016', 'designation', 'total_commuters', 'pct_drive', 'pct_transit', 'pct_walk', 'pct_bike']\n",
        "pairwise_fig = sns.pairplot(neighbourhoods[cols], hue='designation')"
      ]
    },
    {
      "cell_type": "markdown",
      "id": "bc6cf360",
      "metadata": {
        "id": "bc6cf360"
      },
      "source": [
        "We can combine `seaborn`'s `heatmap()` function with the `pandas` Dataframe `corr()` method to explore correlations in our data."
      ]
    },
    {
      "cell_type": "code",
      "execution_count": null,
      "id": "bdb4338f",
      "metadata": {},
      "outputs": [],
      "source": [
        "# If there are issues with library installation please type the following commands into Terminal:\n",
        "\n",
        "# conda install scipy"
      ]
    },
    {
      "cell_type": "code",
      "execution_count": null,
      "id": "b92a6410",
      "metadata": {
        "colab": {
          "base_uri": "https://localhost:8080/",
          "height": 88
        },
        "id": "b92a6410",
        "outputId": "1f22bc09-38ad-40dd-a57b-011eaca95d9d",
        "scrolled": true
      },
      "outputs": [],
      "source": [
        "# calculate correlations with pandas\n",
        "correlations = neighbourhoods.loc[:, 'pct_bike':].corr('kendall')\n",
        "\n",
        "# create a figure and axes\n",
        "corr_fig, corr_ax = plt.subplots()\n",
        "corr_fig.set_size_inches(5, 4)\n",
        "sns.heatmap(correlations, ax=corr_ax, annot=True)"
      ]
    },
    {
      "cell_type": "markdown",
      "id": "e3509779",
      "metadata": {
        "id": "e3509779"
      },
      "source": [
        "## Saving Plots\n",
        "\n",
        "To save a plot, use the Figure `savefig()` method, which supports exporting figure in common formats like PNG, PDF, and SVG. Setting `bbox_inches='tight'` will make `matplotlib` try to figure out the dimensions of the plot and crop the image appropriately. Note that `seaborn` does not have a plot saving function of its own."
      ]
    },
    {
      "cell_type": "code",
      "execution_count": null,
      "id": "ed25a8c6",
      "metadata": {
        "id": "ed25a8c6"
      },
      "outputs": [],
      "source": [
        "pairwise_fig.savefig('pairs.svg', bbox_inches='tight')\n",
        "corr_fig.savefig('correlations.png', bbox_inches='tight')"
      ]
    },
    {
      "cell_type": "markdown",
      "id": "8acbc611",
      "metadata": {
        "id": "8acbc611"
      },
      "source": [
        "# `plotly`"
      ]
    },
    {
      "cell_type": "markdown",
      "id": "2a673992",
      "metadata": {
        "id": "2a673992"
      },
      "source": [
        "## Interactive visualizations with `plotly`\n",
        "\n",
        "`plotly` gives us a way to create interactive graphics within Python, building on the plotly.js library rather than `matplotlib`. Plotly Express provides an entry point to making data visualizations with the package. Let's re-create the drivers vs cyclists scatterplot to start."
      ]
    },
    {
      "cell_type": "code",
      "execution_count": null,
      "id": "2b10dafd",
      "metadata": {},
      "outputs": [],
      "source": [
        "# If there are issues with library installation please type the following commands into Terminal:\n",
        "\n",
        "## conda install plotly\n",
        "## conda install nbformat"
      ]
    },
    {
      "cell_type": "code",
      "execution_count": null,
      "id": "b466cad4",
      "metadata": {
        "id": "b466cad4"
      },
      "outputs": [],
      "source": [
        "import plotly.express as px"
      ]
    },
    {
      "cell_type": "code",
      "execution_count": null,
      "id": "25274d77",
      "metadata": {
        "colab": {
          "base_uri": "https://localhost:8080/",
          "height": 562
        },
        "id": "25274d77",
        "outputId": "c4707a4f-057a-4c4c-fb27-128cfadb94ee"
      },
      "outputs": [],
      "source": [
        "plotly_fig = px.scatter(neighbourhoods,\n",
        "                        x='drive',\n",
        "                        y='bike',\n",
        "                        title='Commute Modes')\n",
        "plotly_fig.show()  # ensure plot renders nicely in notebook mode"
      ]
    },
    {
      "cell_type": "code",
      "execution_count": null,
      "id": "89d24885",
      "metadata": {
        "colab": {
          "base_uri": "https://localhost:8080/",
          "height": 562
        },
        "id": "89d24885",
        "outputId": "23a89c25-ba58-4c22-a2f6-1cf7e0e2b860"
      },
      "outputs": [],
      "source": [
        "# add hover data\n",
        "plotly_fig = px.scatter(neighbourhoods,\n",
        "                        x='drive',\n",
        "                        y='bike',\n",
        "                        hover_name='neighbourhood',  # show neighbourhood on hover\n",
        "                        labels={'bike': 'Bike', 'drive':'Drive'},\n",
        "                        title='Commute Modes')\n",
        "plotly_fig.show()  # ensure plot renders nicely in notebook mode"
      ]
    },
    {
      "cell_type": "code",
      "execution_count": null,
      "id": "c6d90ed9",
      "metadata": {
        "colab": {
          "base_uri": "https://localhost:8080/",
          "height": 664
        },
        "id": "c6d90ed9",
        "outputId": "e137ad93-c52c-46cd-a55e-0370293f4957"
      },
      "outputs": [],
      "source": [
        "print(top10_pop.columns)\n",
        "\n",
        "hist_fig = px.bar(top10_pop,\n",
        "                  x=['pct_drive', 'pct_cp', 'pct_transit', 'pct_walk', 'pct_bike'],\n",
        "                  y='neighbourhood',\n",
        "                  hover_name='neighbourhood',\n",
        "                  hover_data=['drive', 'car_passenger', 'transit', 'walk', 'bike'],\n",
        "                  labels={'variable': 'Mode',\n",
        "                          'value': '%'}\n",
        "                 )\n",
        "hist_fig.show()"
      ]
    },
    {
      "cell_type": "markdown",
      "id": "d5fd2816",
      "metadata": {
        "id": "d5fd2816"
      },
      "source": [
        "### Re-create the population bar chart"
      ]
    },
    {
      "cell_type": "code",
      "execution_count": null,
      "id": "65f86e0b",
      "metadata": {
        "colab": {
          "base_uri": "https://localhost:8080/"
        },
        "id": "65f86e0b",
        "outputId": "53d6ae79-5fea-4b06-fbf3-6b3e3a954326"
      },
      "outputs": [],
      "source": [
        "# view available themes\n",
        "import plotly.io as pio\n",
        "pio.templates"
      ]
    },
    {
      "cell_type": "code",
      "execution_count": null,
      "id": "dd6a8682",
      "metadata": {
        "colab": {
          "base_uri": "https://localhost:8080/",
          "height": 562
        },
        "id": "dd6a8682",
        "outputId": "9ce899cb-c6b9-4360-c776-9a8bd72f5efd"
      },
      "outputs": [],
      "source": [
        "bar_fig = px.bar(top10_pop,\n",
        "                 x='pop_2016',\n",
        "                 y='neighbourhood',\n",
        "                 text='pop_2016',\n",
        "                 labels={'pop_2016': 'Population, 2016',\n",
        "                         'neighbourhood': 'Neighbourhood'},\n",
        "                 hover_data={'neighbourhood': False,\n",
        "                             'pop_2016':False,\n",
        "                             'pop_change': ':.2p'},  # add pop change, formatted as %\n",
        "                 title='Top Toronto Neighbourhoods by Population',\n",
        "                 template='seaborn'\n",
        "                )\n",
        "bar_fig.show()"
      ]
    },
    {
      "cell_type": "markdown",
      "id": "f8e7e1f3",
      "metadata": {
        "id": "f8e7e1f3"
      },
      "source": [
        "## Futher customizing `plotly` graphs\n",
        "\n",
        "For added control over visualizations, we can import `plotly`'s `graph_objects` submodule."
      ]
    },
    {
      "cell_type": "code",
      "execution_count": null,
      "id": "8b9474e1",
      "metadata": {
        "id": "8b9474e1"
      },
      "outputs": [],
      "source": [
        "import plotly.graph_objects as go"
      ]
    },
    {
      "cell_type": "code",
      "execution_count": null,
      "id": "58b6da12",
      "metadata": {
        "colab": {
          "base_uri": "https://localhost:8080/",
          "height": 562
        },
        "id": "58b6da12",
        "outputId": "51bc3645-7516-4249-df04-b6ed79f55512"
      },
      "outputs": [],
      "source": [
        "transit_hist = go.Histogram(x=neighbourhoods['pct_transit'], name='Transit')\n",
        "drive_hist = go.Histogram(x=neighbourhoods['pct_drive'], name='Drive')\n",
        "\n",
        "data = [drive_hist, transit_hist]\n",
        "\n",
        "layout = go.Layout(template='seaborn',\n",
        "                  title='Commute Mode Distribution',\n",
        "                  xaxis={'title': 'Mode %'},\n",
        "                  yaxis={'title': 'Neighbourhoods'}\n",
        "                  )\n",
        "\n",
        "fig = go.Figure(data=data, layout=layout)\n",
        "fig.update_layout(hovermode='x')\n",
        "fig.show()"
      ]
    },
    {
      "cell_type": "markdown",
      "id": "ad5a836d",
      "metadata": {
        "id": "ad5a836d"
      },
      "source": [
        "## Saving `plotly` visualizations\n",
        "\n",
        "We can save visualizatons created in `plotly` to image or PDF with the `write_image()` Figure method. Note that `write_image()` needs the `kaleido` package to work."
      ]
    },
    {
      "cell_type": "code",
      "execution_count": null,
      "id": "bb0281eb",
      "metadata": {},
      "outputs": [],
      "source": [
        "# If there are issues with library installation please type the following commands into Terminal:\n",
        "\n",
        "#conda install -c conda-forge python-kaleido=0.2.1"
      ]
    },
    {
      "cell_type": "code",
      "execution_count": null,
      "id": "dTdIGaqXHn8R",
      "metadata": {
        "id": "dTdIGaqXHn8R"
      },
      "outputs": [],
      "source": [
        "import kaleido"
      ]
    },
    {
      "cell_type": "code",
      "execution_count": null,
      "id": "299df222",
      "metadata": {
        "id": "299df222"
      },
      "outputs": [],
      "source": [
        "fig.write_image('fig.pdf', format='pdf')"
      ]
    },
    {
      "cell_type": "markdown",
      "id": "0d1c483c",
      "metadata": {
        "id": "0d1c483c"
      },
      "source": [
        "# References\n",
        "\n",
        "- Matplotlib development team. _Basic usage_. https://matplotlib.org/stable/tutorials/introductory/usage.html\n",
        "- Matplotlib development team. _The lifecycle of a plot_. https://matplotlib.org/stable/tutorials/introductory/lifecycle.html#sphx-glr-tutorials-introductory-lifecycle-py\n",
        "- Matplotlib development team. _API reference_. https://matplotlib.org/stable/api/index.html\n",
        "- Plotly. _Getting started_. https://plotly.com/python/getting-started/\n",
        "- Plotly. _Fundamentals_. https://plotly.com/python/plotly-fundamentals/\n",
        "- Waskom, M. _An introduction to seaborn_. https://seaborn.pydata.org/introduction.html\n",
        "- Waskom, M. _API reference_. https://seaborn.pydata.org/api.html\n"
      ]
    }
  ],
  "metadata": {
    "celltoolbar": "Slideshow",
    "colab": {
      "collapsed_sections": [
        "3e2fb9ea",
        "c3dc71ce",
        "8c46068d",
        "71022ba7",
        "797f9027",
        "83cf96b4",
        "560b3cf8",
        "692f2f8c",
        "15f60e7c",
        "40b12ed0",
        "dd6217e3",
        "9700be0f",
        "e3509779",
        "2a673992",
        "d5fd2816",
        "f8e7e1f3"
      ],
      "provenance": []
    },
    "kernelspec": {
      "display_name": "Python 3 (ipykernel)",
      "language": "python",
      "name": "python3"
    },
    "language_info": {
      "codemirror_mode": {
        "name": "ipython",
        "version": 3
      },
      "file_extension": ".py",
      "mimetype": "text/x-python",
      "name": "python",
      "nbconvert_exporter": "python",
      "pygments_lexer": "ipython3",
      "version": "3.9.19"
    },
    "rise": {
      "scroll": true,
      "theme": "solarized",
      "transition": "none"
    }
  },
  "nbformat": 4,
  "nbformat_minor": 5
}
