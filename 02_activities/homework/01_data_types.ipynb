{
 "cells": [
  {
   "cell_type": "markdown",
   "metadata": {
    "id": "jNAI57ELh-I8"
   },
   "source": [
    "# Getting Started: Python Fundamentals\n",
    "## Practice Problems"
   ]
  },
  {
   "cell_type": "markdown",
   "metadata": {
    "id": "5xeRB_0jiT5n"
   },
   "source": [
    "### 1. What types are involved in the following expressions? What data type will each expression evaluate to?\n",
    "\n",
    "`8 * 2.5`"
   ]
  },
  {
   "cell_type": "code",
   "execution_count": 15,
   "metadata": {
    "colab": {
     "base_uri": "https://localhost:8080/"
    },
    "executionInfo": {
     "elapsed": 158,
     "status": "ok",
     "timestamp": 1667929890889,
     "user": {
      "displayName": "Kaylie Lau",
      "userId": "01284785813595846851"
     },
     "user_tz": 300
    },
    "id": "C6c48sSBOUeE",
    "outputId": "3628ffce-faf6-4d23-daff-5e09edf76541"
   },
   "outputs": [
    {
     "name": "stdout",
     "output_type": "stream",
     "text": [
      "Types involved: Integer and Float\n",
      "Result data type: Integer \n"
     ]
    }
   ],
   "source": [
    "print(\"\"\"Types involved: Integer and Float\n",
    "Result data type: Integer \"\"\")\n"
   ]
  },
  {
   "cell_type": "code",
   "execution_count": null,
   "metadata": {},
   "outputs": [],
   "source": []
  },
  {
   "cell_type": "markdown",
   "metadata": {
    "id": "4eICUfHi_Z-K"
   },
   "source": [
    "`9 / 2`"
   ]
  },
  {
   "cell_type": "code",
   "execution_count": 16,
   "metadata": {
    "colab": {
     "base_uri": "https://localhost:8080/"
    },
    "executionInfo": {
     "elapsed": 43,
     "status": "ok",
     "timestamp": 1667929891449,
     "user": {
      "displayName": "Kaylie Lau",
      "userId": "01284785813595846851"
     },
     "user_tz": 300
    },
    "id": "QVdbNoA2OiQ_",
    "outputId": "ab9f4fac-b1cc-4afc-cc54-10592b92abb1"
   },
   "outputs": [
    {
     "name": "stdout",
     "output_type": "stream",
     "text": [
      "Types involved: Integer and Integer\n",
      "Result data type: Float \n"
     ]
    }
   ],
   "source": [
    "print(\"\"\"Types involved: Integer and Integer\n",
    "Result data type: Float \"\"\")"
   ]
  },
  {
   "cell_type": "markdown",
   "metadata": {
    "id": "DhrJoWbj_cNe"
   },
   "source": [
    "`9 // -2`"
   ]
  },
  {
   "cell_type": "code",
   "execution_count": 17,
   "metadata": {
    "colab": {
     "base_uri": "https://localhost:8080/"
    },
    "executionInfo": {
     "elapsed": 39,
     "status": "ok",
     "timestamp": 1667929891450,
     "user": {
      "displayName": "Kaylie Lau",
      "userId": "01284785813595846851"
     },
     "user_tz": 300
    },
    "id": "cSsGq3r0Opx6",
    "outputId": "13df11ef-d136-4a42-884e-be1e369aae52"
   },
   "outputs": [
    {
     "name": "stdout",
     "output_type": "stream",
     "text": [
      "Types involved: Integer and Integer\n",
      "Result data type: Integer \n"
     ]
    }
   ],
   "source": [
    "print(\"\"\"Types involved: Integer and Integer\n",
    "Result data type: Integer \"\"\")"
   ]
  },
  {
   "cell_type": "markdown",
   "metadata": {
    "id": "lW4UnVfw_eYy"
   },
   "source": [
    "`1.5 * 2 >= 7 - 3`"
   ]
  },
  {
   "cell_type": "code",
   "execution_count": null,
   "metadata": {
    "colab": {
     "base_uri": "https://localhost:8080/"
    },
    "executionInfo": {
     "elapsed": 34,
     "status": "ok",
     "timestamp": 1667929891452,
     "user": {
      "displayName": "Kaylie Lau",
      "userId": "01284785813595846851"
     },
     "user_tz": 300
    },
    "id": "54N6gcNPOylS",
    "outputId": "938208fc-c4c3-4e58-dd18-b50d3acc84d8"
   },
   "outputs": [
    {
     "name": "stdout",
     "output_type": "stream",
     "text": [
      "Types involved: Integer and Float\n",
      "Result data type: Boolean    \n"
     ]
    }
   ],
   "source": [
    "print(\"\"\"Types involved: Integer and Float\n",
    "Result data type: Boolean  \"\"\") "
   ]
  },
  {
   "cell_type": "markdown",
   "metadata": {
    "id": "5T-ytiTw-KvJ"
   },
   "source": [
    "### 2. In which order will the expressions be evaluated.\n",
    "\n",
    "`6 * 3 + 7 * 4`\n",
    "\n",
    "\n",
    "<details>\n",
    "  <summary>Answer</summary>\n",
    "\n",
    "  `*` > `*` > `+` \n",
    "</details>\n",
    "\n",
    "\n",
    "`5 - 2 * 3 ** 4`\n",
    "\n",
    "<details>\n",
    "  <summary>Answer</summary>\n",
    "\n",
    "  `**` > `*` > `-`\n",
    "</details>\n",
    "\n",
    "`(5 - 2) * 3 ** 4`\n",
    "\n",
    "<details>\n",
    "  <summary>Answer</summary>\n",
    "\n",
    "  `(-)` > `**` > `*` \n",
    "</details>\n",
    "\n",
    "`5 + 2 >= 3 * 4`\n",
    "\n",
    "<details>\n",
    "  <summary>Answer</summary>\n",
    "\n",
    "  `*` > `+` > `>=`\n",
    "</details>"
   ]
  },
  {
   "cell_type": "markdown",
   "metadata": {},
   "source": []
  }
 ],
 "metadata": {
  "colab": {
   "authorship_tag": "ABX9TyMhUBNX+UP2C+YDtVSxQKBK",
   "collapsed_sections": [],
   "provenance": []
  },
  "kernelspec": {
   "display_name": "dsi_participant",
   "language": "python",
   "name": "python3"
  },
  "language_info": {
   "codemirror_mode": {
    "name": "ipython",
    "version": 3
   },
   "file_extension": ".py",
   "mimetype": "text/x-python",
   "name": "python",
   "nbconvert_exporter": "python",
   "pygments_lexer": "ipython3",
   "version": "3.9.15"
  }
 },
 "nbformat": 4,
 "nbformat_minor": 0
}
